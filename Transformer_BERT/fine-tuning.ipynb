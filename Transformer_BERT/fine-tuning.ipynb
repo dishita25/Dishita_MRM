{
 "cells": [
  {
   "cell_type": "code",
   "execution_count": 1,
   "metadata": {
    "_cell_guid": "b1076dfc-b9ad-4769-8c92-a6c4dae69d19",
    "_uuid": "8f2839f25d086af736a60e9eeb907d3b93b6e0e5",
    "execution": {
     "iopub.execute_input": "2025-03-29T13:18:16.549758Z",
     "iopub.status.busy": "2025-03-29T13:18:16.549556Z",
     "iopub.status.idle": "2025-03-29T13:18:16.875981Z",
     "shell.execute_reply": "2025-03-29T13:18:16.875008Z",
     "shell.execute_reply.started": "2025-03-29T13:18:16.549739Z"
    },
    "trusted": true
   },
   "outputs": [
    {
     "name": "stdout",
     "output_type": "stream",
     "text": [
      "/kaggle/input/bert-model/bert_pretrained.pt\n",
      "/kaggle/input/bert-model/bert-it-vocab.txt\n"
     ]
    }
   ],
   "source": [
    "# This Python 3 environment comes with many helpful analytics libraries installed\n",
    "# It is defined by the kaggle/python Docker image: https://github.com/kaggle/docker-python\n",
    "# For example, here's several helpful packages to load\n",
    "\n",
    "import numpy as np # linear algebra\n",
    "import pandas as pd # data processing, CSV file I/O (e.g. pd.read_csv)\n",
    "\n",
    "# Input data files are available in the read-only \"../input/\" directory\n",
    "# For example, running this (by clicking run or pressing Shift+Enter) will list all files under the input directory\n",
    "\n",
    "import os\n",
    "for dirname, _, filenames in os.walk('/kaggle/input'):\n",
    "    for filename in filenames:\n",
    "        print(os.path.join(dirname, filename))\n",
    "\n",
    "# You can write up to 20GB to the current directory (/kaggle/working/) that gets preserved as output when you create a version using \"Save & Run All\" \n",
    "# You can also write temporary files to /kaggle/temp/, but they won't be saved outside of the current session"
   ]
  },
  {
   "cell_type": "code",
   "execution_count": 2,
   "metadata": {
    "execution": {
     "iopub.execute_input": "2025-03-29T13:18:16.877782Z",
     "iopub.status.busy": "2025-03-29T13:18:16.877267Z",
     "iopub.status.idle": "2025-03-29T13:18:20.748410Z",
     "shell.execute_reply": "2025-03-29T13:18:20.747580Z",
     "shell.execute_reply.started": "2025-03-29T13:18:16.877756Z"
    },
    "trusted": true
   },
   "outputs": [
    {
     "name": "stdout",
     "output_type": "stream",
     "text": [
      "Requirement already satisfied: transformers in /usr/local/lib/python3.10/dist-packages (4.47.0)\n",
      "Requirement already satisfied: datasets in /usr/local/lib/python3.10/dist-packages (3.3.1)\n",
      "Requirement already satisfied: torch in /usr/local/lib/python3.10/dist-packages (2.5.1+cu121)\n",
      "Requirement already satisfied: tqdm in /usr/local/lib/python3.10/dist-packages (4.67.1)\n",
      "Collecting sklearn\n",
      "  Using cached sklearn-0.0.post12.tar.gz (2.6 kB)\n",
      "  Preparing metadata (setup.py) ... \u001b[?25l  \u001b[1;31merror\u001b[0m: \u001b[1msubprocess-exited-with-error\u001b[0m\n",
      "  \n",
      "  \u001b[31m×\u001b[0m \u001b[32mpython setup.py egg_info\u001b[0m did not run successfully.\n",
      "  \u001b[31m│\u001b[0m exit code: \u001b[1;36m1\u001b[0m\n",
      "  \u001b[31m╰─>\u001b[0m See above for output.\n",
      "  \n",
      "  \u001b[1;35mnote\u001b[0m: This error originates from a subprocess, and is likely not a problem with pip.\n",
      "\u001b[?25herror\n",
      "\u001b[1;31merror\u001b[0m: \u001b[1mmetadata-generation-failed\u001b[0m\n",
      "\n",
      "\u001b[31m×\u001b[0m Encountered error while generating package metadata.\n",
      "\u001b[31m╰─>\u001b[0m See above for output.\n",
      "\n",
      "\u001b[1;35mnote\u001b[0m: This is an issue with the package mentioned above, not pip.\n",
      "\u001b[1;36mhint\u001b[0m: See above for details.\n"
     ]
    }
   ],
   "source": [
    "!pip install transformers datasets torch tqdm sklearn\n",
    "import os\n",
    "import math\n",
    "import torch\n",
    "import random\n",
    "import numpy as np\n",
    "import pandas as pd\n",
    "from tqdm import tqdm\n",
    "from torch.utils.data import Dataset, DataLoader\n",
    "from sklearn.model_selection import train_test_split\n",
    "from transformers import BertTokenizer"
   ]
  },
  {
   "cell_type": "code",
   "execution_count": 3,
   "metadata": {
    "execution": {
     "iopub.execute_input": "2025-03-29T13:18:20.750657Z",
     "iopub.status.busy": "2025-03-29T13:18:20.750132Z",
     "iopub.status.idle": "2025-03-29T13:18:21.148898Z",
     "shell.execute_reply": "2025-03-29T13:18:21.147852Z",
     "shell.execute_reply.started": "2025-03-29T13:18:20.750629Z"
    },
    "trusted": true
   },
   "outputs": [
    {
     "name": "stdout",
     "output_type": "stream",
     "text": [
      "lrwxrwxrwx 1 root root 43 Mar 29 13:18 /kaggle/working/bert_pretrained.pt -> /kaggle/input/bert-model/bert_pretrained.pt\n"
     ]
    }
   ],
   "source": [
    "# Create a symbolic link to make the file accessible in /kaggle/working\n",
    "!ln -sf /kaggle/input/bert-model/bert_pretrained.pt /kaggle/working/bert_pretrained.pt\n",
    "!ln -sf /kaggle/input/bert-model/bert-it-vocab.txt /kaggle/working/bert-it-vocab.txt\n",
    "\n",
    "# Verify the file is accessible\n",
    "!ls -la /kaggle/working/bert_pretrained.pt\n"
   ]
  },
  {
   "cell_type": "code",
   "execution_count": 4,
   "metadata": {
    "execution": {
     "iopub.execute_input": "2025-03-29T13:18:21.151163Z",
     "iopub.status.busy": "2025-03-29T13:18:21.150836Z",
     "iopub.status.idle": "2025-03-29T13:18:21.180071Z",
     "shell.execute_reply": "2025-03-29T13:18:21.179166Z",
     "shell.execute_reply.started": "2025-03-29T13:18:21.151131Z"
    },
    "trusted": true
   },
   "outputs": [],
   "source": [
    "class PositionalEmbedding(torch.nn.Module):\n",
    "    def __init__(self, d_model, max_len=128):\n",
    "        super().__init__()\n",
    "        pe = torch.zeros(max_len, d_model).float()\n",
    "        pe.require_grad = False\n",
    "        for pos in range(max_len): \n",
    "            for i in range(0, d_model, 2): \n",
    "                pe[pos, i] = math.sin(pos / (10000 ** ((2 * i)/d_model)))\n",
    "                pe[pos, i + 1] = math.cos(pos / (10000 ** ((2 * (i + 1))/d_model)))\n",
    "        self.pe = pe.unsqueeze(0)\n",
    "        \n",
    "    def forward(self, x):\n",
    "        return self.pe[:, :x.size(1), :].to(x.device)\n",
    "\n",
    "class BERTEmbedding(torch.nn.Module):\n",
    "    def __init__(self, vocab_size, embed_size, seq_len=64, dropout=0.1):\n",
    "        super().__init__()\n",
    "        self.embed_size = embed_size\n",
    "        self.token = torch.nn.Embedding(vocab_size, embed_size, padding_idx=0)\n",
    "        self.segment = torch.nn.Embedding(3, embed_size, padding_idx=0)\n",
    "        self.position = PositionalEmbedding(d_model=embed_size, max_len=seq_len)\n",
    "        self.dropout = torch.nn.Dropout(p=dropout)\n",
    "        \n",
    "    def forward(self, sequence, segment_label):\n",
    "        x = self.token(sequence) + self.position(sequence) + self.segment(segment_label)\n",
    "        return self.dropout(x)\n",
    "\n",
    "class MultiHeadedAttention(torch.nn.Module):\n",
    "    def __init__(self, heads, d_model, dropout=0.1):\n",
    "        super(MultiHeadedAttention, self).__init__()\n",
    "        assert d_model % heads == 0\n",
    "        self.d_k = d_model // heads\n",
    "        self.heads = heads\n",
    "        self.dropout = torch.nn.Dropout(dropout)\n",
    "        self.query = torch.nn.Linear(d_model, d_model)\n",
    "        self.key = torch.nn.Linear(d_model, d_model)\n",
    "        self.value = torch.nn.Linear(d_model, d_model)\n",
    "        self.output_linear = torch.nn.Linear(d_model, d_model)\n",
    "        \n",
    "    def forward(self, query, key, value, mask):\n",
    "        query = self.query(query)\n",
    "        key = self.key(key) \n",
    "        value = self.value(value) \n",
    "        query = query.view(query.shape[0], -1, self.heads, self.d_k).permute(0, 2, 1, 3) \n",
    "        key = key.view(key.shape[0], -1, self.heads, self.d_k).permute(0, 2, 1, 3) \n",
    "        value = value.view(value.shape[0], -1, self.heads, self.d_k).permute(0, 2, 1, 3) \n",
    "        scores = torch.matmul(query, key.permute(0, 1, 3, 2)) / math.sqrt(query.size(-1))\n",
    "        scores = scores.masked_fill(mask == 0, -1e9) \n",
    "        weights = torch.nn.functional.softmax(scores, dim=-1) \n",
    "        weights = self.dropout(weights)\n",
    "        context = torch.matmul(weights, value)\n",
    "        context = context.permute(0, 2, 1, 3).contiguous().view(context.shape[0], -1, self.heads * self.d_k)\n",
    "        return self.output_linear(context)\n",
    "\n",
    "class FeedForward(torch.nn.Module):\n",
    "    def __init__(self, d_model, middle_dim=2048, dropout=0.1):\n",
    "        super(FeedForward, self).__init__()\n",
    "        self.fc1 = torch.nn.Linear(d_model, middle_dim)\n",
    "        self.fc2 = torch.nn.Linear(middle_dim, d_model)\n",
    "        self.dropout = torch.nn.Dropout(dropout)\n",
    "        self.activation = torch.nn.GELU()\n",
    "\n",
    "    def forward(self, x):\n",
    "        out = self.activation(self.fc1(x))\n",
    "        out = self.fc2(self.dropout(out))\n",
    "        return out\n",
    "\n",
    "class EncoderLayer(torch.nn.Module):\n",
    "    def __init__(self, d_model=768, heads=12, feed_forward_hidden=768 * 4, dropout=0.1):\n",
    "        super(EncoderLayer, self).__init__()\n",
    "        self.layernorm = torch.nn.LayerNorm(d_model)\n",
    "        self.self_multihead = MultiHeadedAttention(heads, d_model)\n",
    "        self.feed_forward = FeedForward(d_model, middle_dim=feed_forward_hidden)\n",
    "        self.dropout = torch.nn.Dropout(dropout)\n",
    "\n",
    "    def forward(self, embeddings, mask):\n",
    "        interacted = self.dropout(self.self_multihead(embeddings, embeddings, embeddings, mask))\n",
    "        interacted = self.layernorm(interacted + embeddings)\n",
    "        feed_forward_out = self.dropout(self.feed_forward(interacted))\n",
    "        encoded = self.layernorm(feed_forward_out + interacted)\n",
    "        return encoded\n",
    "\n",
    "class BERT(torch.nn.Module):\n",
    "    def __init__(self, vocab_size, d_model=768, n_layers=12, heads=12, dropout=0.1):\n",
    "        super().__init__()\n",
    "        self.d_model = d_model\n",
    "        self.n_layers = n_layers\n",
    "        self.heads = heads\n",
    "        self.feed_forward_hidden = d_model * 4\n",
    "        self.embedding = BERTEmbedding(vocab_size=vocab_size, embed_size=d_model)\n",
    "        self.encoder_blocks = torch.nn.ModuleList(\n",
    "            [EncoderLayer(d_model, heads, d_model * 4, dropout) for _ in range(n_layers)])\n",
    "\n",
    "    def forward(self, x, segment_info):\n",
    "        mask = (x > 0).unsqueeze(1).repeat(1, x.size(1), 1).unsqueeze(1)\n",
    "        x = self.embedding(x, segment_info)\n",
    "        for encoder in self.encoder_blocks:\n",
    "            x = encoder.forward(x, mask)\n",
    "        return x"
   ]
  },
  {
   "cell_type": "code",
   "execution_count": 5,
   "metadata": {
    "execution": {
     "iopub.execute_input": "2025-03-29T13:18:21.181240Z",
     "iopub.status.busy": "2025-03-29T13:18:21.180989Z",
     "iopub.status.idle": "2025-03-29T13:18:21.200499Z",
     "shell.execute_reply": "2025-03-29T13:18:21.199646Z",
     "shell.execute_reply.started": "2025-03-29T13:18:21.181210Z"
    },
    "trusted": true
   },
   "outputs": [],
   "source": [
    "#sentiment classifier that will use our pre-trained BERT\n",
    "class BERTSentimentClassifier(torch.nn.Module):\n",
    "    def __init__(self, bert_model, num_classes=2):\n",
    "        super(BERTSentimentClassifier, self).__init__()\n",
    "        self.bert = bert_model\n",
    "        self.dropout = torch.nn.Dropout(0.1)\n",
    "        self.classifier = torch.nn.Linear(768, num_classes)\n",
    "        \n",
    "    def forward(self, input_ids, segment_info=None):\n",
    "        # Get BERT outputs\n",
    "        outputs = self.bert(input_ids, segment_info)\n",
    "        \n",
    "        # Use the [CLS] token representation for classification\n",
    "        pooled_output = outputs[:, 0, :]\n",
    "        \n",
    "        # Apply dropout and the classifier\n",
    "        pooled_output = self.dropout(pooled_output)\n",
    "        logits = self.classifier(pooled_output)\n",
    "        \n",
    "        return logits\n"
   ]
  },
  {
   "cell_type": "code",
   "execution_count": 6,
   "metadata": {
    "execution": {
     "iopub.execute_input": "2025-03-29T13:18:21.201515Z",
     "iopub.status.busy": "2025-03-29T13:18:21.201264Z",
     "iopub.status.idle": "2025-03-29T13:18:21.210961Z",
     "shell.execute_reply": "2025-03-29T13:18:21.210220Z",
     "shell.execute_reply.started": "2025-03-29T13:18:21.201494Z"
    },
    "trusted": true
   },
   "outputs": [],
   "source": [
    "#dataset class for the IMDB dataset\n",
    "class SentimentDataset(Dataset):\n",
    "    def __init__(self, texts, labels, tokenizer, max_len=64):\n",
    "        self.texts = texts\n",
    "        self.labels = labels\n",
    "        self.tokenizer = tokenizer\n",
    "        self.max_len = max_len\n",
    "        \n",
    "    def __len__(self):\n",
    "        return len(self.texts)\n",
    "    \n",
    "    def __getitem__(self, idx):\n",
    "        text = str(self.texts[idx])\n",
    "        label = self.labels[idx]\n",
    "        \n",
    "        # Tokenize the text\n",
    "        encoding = self.tokenizer(text, add_special_tokens=True, \n",
    "                                 max_length=self.max_len, \n",
    "                                 padding='max_length',\n",
    "                                 truncation=True,\n",
    "                                 return_tensors='pt')\n",
    "        \n",
    "        # Create segment info (all 1s for single sentence)\n",
    "        segment_info = torch.ones_like(encoding['input_ids'])\n",
    "        \n",
    "        return {\n",
    "            'input_ids': encoding['input_ids'].flatten(),\n",
    "            'segment_info': segment_info.flatten(),\n",
    "            'labels': torch.tensor(label, dtype=torch.long)\n",
    "        }"
   ]
  },
  {
   "cell_type": "code",
   "execution_count": 7,
   "metadata": {
    "execution": {
     "iopub.execute_input": "2025-03-29T13:18:21.212086Z",
     "iopub.status.busy": "2025-03-29T13:18:21.211821Z",
     "iopub.status.idle": "2025-03-29T13:18:21.232728Z",
     "shell.execute_reply": "2025-03-29T13:18:21.231942Z",
     "shell.execute_reply.started": "2025-03-29T13:18:21.212062Z"
    },
    "trusted": true
   },
   "outputs": [],
   "source": [
    "#Loading and Preparing the IMDB Dataset\n",
    "def load_and_prepare_imdb_data(tokenizer, max_len=64, batch_size=16):\n",
    "    # Load IMDB dataset\n",
    "    from datasets import load_dataset\n",
    "    dataset = load_dataset(\"imdb\")\n",
    "    \n",
    "    # Convert to pandas DataFrames\n",
    "    train_df = pd.DataFrame({\n",
    "        'text': dataset['train']['text'],\n",
    "        'label': dataset['train']['label']\n",
    "    })\n",
    "    \n",
    "    test_df = pd.DataFrame({\n",
    "        'text': dataset['test']['text'],\n",
    "        'label': dataset['test']['label']\n",
    "    })\n",
    "    \n",
    "    # Split training data for validation\n",
    "    train_df, val_df = train_test_split(train_df, test_size=0.1, random_state=42)\n",
    "    \n",
    "    # Create datasets\n",
    "    train_dataset = SentimentDataset(train_df['text'].values, train_df['label'].values, tokenizer, max_len)\n",
    "    val_dataset = SentimentDataset(val_df['text'].values, val_df['label'].values, tokenizer, max_len)\n",
    "    test_dataset = SentimentDataset(test_df['text'].values, test_df['label'].values, tokenizer, max_len)\n",
    "    \n",
    "    # Create data loaders\n",
    "    train_loader = DataLoader(train_dataset, batch_size=batch_size, shuffle=True)\n",
    "    val_loader = DataLoader(val_dataset, batch_size=batch_size)\n",
    "    test_loader = DataLoader(test_dataset, batch_size=batch_size)\n",
    "    \n",
    "    return train_loader, val_loader, test_loader"
   ]
  },
  {
   "cell_type": "code",
   "execution_count": 8,
   "metadata": {
    "execution": {
     "iopub.execute_input": "2025-03-29T13:18:21.234994Z",
     "iopub.status.busy": "2025-03-29T13:18:21.234797Z",
     "iopub.status.idle": "2025-03-29T13:18:21.254489Z",
     "shell.execute_reply": "2025-03-29T13:18:21.253739Z",
     "shell.execute_reply.started": "2025-03-29T13:18:21.234977Z"
    },
    "trusted": true
   },
   "outputs": [],
   "source": [
    "from sklearn.metrics import confusion_matrix, ConfusionMatrixDisplay\n",
    "import matplotlib.pyplot as plt\n",
    "\n",
    "#Fine-tuning Function\n",
    "def fine_tune_bert_for_sentiment(pretrained_bert_path, tokenizer_path, max_len=64, batch_size=16, epochs=4, learning_rate=2e-5):\n",
    "    # Set device\n",
    "    device = torch.device('cuda' if torch.cuda.is_available() else 'cpu')\n",
    "    print(f\"Using device: {device}\")\n",
    "    \n",
    "    # Load tokenizer\n",
    "    tokenizer = BertTokenizer.from_pretrained(tokenizer_path, local_files_only=True)\n",
    "    \n",
    "    # Load pre-trained BERT model\n",
    "    bert_model = BERT(vocab_size=len(tokenizer.vocab))\n",
    "    \n",
    "    # Load the pre-trained weights\n",
    "    checkpoint = torch.load(pretrained_bert_path, map_location=device)\n",
    "    \n",
    "    # Load the state dict\n",
    "    try:\n",
    "        bert_model.load_state_dict(checkpoint['model_state_dict']['bert'])\n",
    "        print(\"Loaded BERT from model_state_dict['bert']\")\n",
    "    except:\n",
    "        try:\n",
    "            bert_model.load_state_dict(checkpoint['model_state_dict'])\n",
    "            print(\"Loaded BERT from model_state_dict\")\n",
    "        except:\n",
    "            print(\"Could not load BERT model directly, trying to extract state dict...\")\n",
    "            # Try to extract the BERT part from the state dict\n",
    "            bert_state_dict = {}\n",
    "            for key, value in checkpoint['model_state_dict'].items():\n",
    "                if key.startswith('bert.'):\n",
    "                    bert_state_dict[key[5:]] = value\n",
    "            \n",
    "            if bert_state_dict:\n",
    "                bert_model.load_state_dict(bert_state_dict)\n",
    "                print(\"Loaded BERT from extracted state dict\")\n",
    "            else:\n",
    "                print(\"Failed to load pre-trained BERT model\")\n",
    "    \n",
    "    # Create sentiment classifier\n",
    "    model = BERTSentimentClassifier(bert_model)\n",
    "    model.to(device)\n",
    "    \n",
    "    # Load and prepare data\n",
    "    train_loader, val_loader, test_loader = load_and_prepare_imdb_data(tokenizer, max_len, batch_size)\n",
    "    \n",
    "    # Set up the optimizer and loss function\n",
    "    optimizer = torch.optim.AdamW(model.parameters(), lr=learning_rate, weight_decay=0.01)\n",
    "    loss_fn = torch.nn.CrossEntropyLoss()\n",
    "    \n",
    "    # Set up learning rate scheduler\n",
    "    total_steps = len(train_loader) * epochs\n",
    "    scheduler = torch.optim.lr_scheduler.LinearLR(optimizer, \n",
    "                                                 start_factor=1.0,\n",
    "                                                 end_factor=0.1,\n",
    "                                                 total_iters=total_steps)\n",
    "    \n",
    "    # Training loop\n",
    "    best_accuracy = 0\n",
    "    \n",
    "    for epoch in range(epochs):\n",
    "        # Training\n",
    "        model.train()\n",
    "        train_loss = 0\n",
    "        \n",
    "        for batch in tqdm(train_loader, desc=f\"Training Epoch {epoch+1}\"):\n",
    "            input_ids = batch['input_ids'].to(device)\n",
    "            segment_info = batch['segment_info'].to(device)\n",
    "            labels = batch['labels'].to(device)\n",
    "            \n",
    "            # Forward pass\n",
    "            outputs = model(input_ids, segment_info)\n",
    "            loss = loss_fn(outputs, labels)\n",
    "            \n",
    "            # Backward pass and optimize\n",
    "            optimizer.zero_grad()\n",
    "            loss.backward()\n",
    "            torch.nn.utils.clip_grad_norm_(model.parameters(), max_norm=1.0)\n",
    "            optimizer.step()\n",
    "            scheduler.step()\n",
    "            \n",
    "            train_loss += loss.item()\n",
    "        \n",
    "        # Validation\n",
    "        model.eval()\n",
    "        val_accuracy = 0\n",
    "        val_loss = 0\n",
    "        \n",
    "        with torch.no_grad():\n",
    "            for batch in tqdm(val_loader, desc=f\"Validation Epoch {epoch+1}\"):\n",
    "                input_ids = batch['input_ids'].to(device)\n",
    "                segment_info = batch['segment_info'].to(device)\n",
    "                labels = batch['labels'].to(device)\n",
    "                \n",
    "                outputs = model(input_ids, segment_info)\n",
    "                loss = loss_fn(outputs, labels)\n",
    "                \n",
    "                val_loss += loss.item()\n",
    "                \n",
    "                preds = torch.argmax(outputs, dim=1)\n",
    "                val_accuracy += (preds == labels).sum().item()\n",
    "        \n",
    "        val_accuracy /= len(val_loader.dataset)\n",
    "        \n",
    "        print(f\"Epoch {epoch+1}:\")\n",
    "        print(f\"Train Loss: {train_loss/len(train_loader):.4f}\")\n",
    "        print(f\"Val Loss: {val_loss/len(val_loader):.4f}\")\n",
    "        print(f\"Val Accuracy: {val_accuracy:.4f}\")\n",
    "        \n",
    "        # Save the best model\n",
    "        if val_accuracy > best_accuracy:\n",
    "            best_accuracy = val_accuracy\n",
    "            torch.save({\n",
    "                'epoch': epoch,\n",
    "                'model_state_dict': model.state_dict(),\n",
    "                'optimizer_state_dict': optimizer.state_dict(),\n",
    "                'val_accuracy': val_accuracy\n",
    "            }, 'bert_sentiment_classifier.pt')\n",
    "            print(f\"Model saved with accuracy: {val_accuracy:.4f}\")\n",
    "    \n",
    "    # Test the model\n",
    "    model.eval()\n",
    "    test_accuracy = 0\n",
    "    all_preds = []\n",
    "    all_labels = []\n",
    "    \n",
    "    with torch.no_grad():\n",
    "        for batch in tqdm(test_loader, desc=\"Testing\"):\n",
    "            input_ids = batch['input_ids'].to(device)\n",
    "            segment_info = batch['segment_info'].to(device)\n",
    "            labels = batch['labels'].to(device)\n",
    "            \n",
    "            outputs = model(input_ids, segment_info)\n",
    "            preds = torch.argmax(outputs, dim=1)\n",
    "            test_accuracy += (preds == labels).sum().item()\n",
    "            \n",
    "            all_preds.extend(preds.cpu().numpy())\n",
    "            all_labels.extend(labels.cpu().numpy())\n",
    "    \n",
    "    test_accuracy /= len(test_loader.dataset)\n",
    "    print(f\"Test Accuracy: {test_accuracy:.4f}\")\n",
    "\n",
    "    cm = confusion_matrix(all_labels, all_preds)\n",
    "\n",
    "    # Create the ConfusionMatrixDisplay object\n",
    "    disp = ConfusionMatrixDisplay(confusion_matrix=cm, display_labels=['Negative', 'Positive'])\n",
    "\n",
    "    # Plot the confusion matrix\n",
    "    fig, ax = plt.subplots(figsize=(8, 6))\n",
    "    disp.plot(ax=ax, cmap='Blues', values_format='d')\n",
    "\n",
    "    # Customize the plot\n",
    "    plt.title('Confusion Matrix for BERT Sentiment Analysis')\n",
    "    plt.xlabel('Predicted label')\n",
    "    plt.ylabel('True label')\n",
    "\n",
    "    # Show the plot\n",
    "    plt.tight_layout()\n",
    "    plt.show()\n",
    "    \n",
    "    # Calculate and print classification report\n",
    "    from sklearn.metrics import classification_report\n",
    "    print(\"\\nClassification Report:\")\n",
    "    print(classification_report(all_labels, all_preds, target_names=['Negative', 'Positive']))\n",
    "    \n",
    "    return model\n"
   ]
  },
  {
   "cell_type": "code",
   "execution_count": 9,
   "metadata": {
    "execution": {
     "iopub.execute_input": "2025-03-29T13:18:21.255514Z",
     "iopub.status.busy": "2025-03-29T13:18:21.255278Z",
     "iopub.status.idle": "2025-03-29T13:18:21.274535Z",
     "shell.execute_reply": "2025-03-29T13:18:21.273754Z",
     "shell.execute_reply.started": "2025-03-29T13:18:21.255490Z"
    },
    "trusted": true
   },
   "outputs": [],
   "source": [
    "#Prediction Function\n",
    "def predict_sentiment(text, model, tokenizer, max_len=64):\n",
    "    device = torch.device('cuda' if torch.cuda.is_available() else 'cpu')\n",
    "    model.to(device)\n",
    "    model.eval()\n",
    "    \n",
    "    # Tokenize the input text\n",
    "    encoding = tokenizer(text, add_special_tokens=True, \n",
    "                         max_length=max_len, \n",
    "                         padding='max_length',\n",
    "                         truncation=True,\n",
    "                         return_tensors='pt')\n",
    "    \n",
    "    input_ids = encoding['input_ids'].to(device)\n",
    "    segment_info = torch.ones_like(input_ids).to(device)\n",
    "    \n",
    "    with torch.no_grad():\n",
    "        outputs = model(input_ids, segment_info)\n",
    "        preds = torch.softmax(outputs, dim=1)\n",
    "        \n",
    "    sentiment_score = preds[:, 1].item()  # Probability of positive sentiment\n",
    "    sentiment = \"Positive\" if sentiment_score > 0.5 else \"Negative\"\n",
    "    \n",
    "    return {\n",
    "        'sentiment': sentiment,\n",
    "        'score': sentiment_score\n",
    "    }"
   ]
  },
  {
   "cell_type": "code",
   "execution_count": 10,
   "metadata": {
    "execution": {
     "iopub.execute_input": "2025-03-29T13:18:21.275577Z",
     "iopub.status.busy": "2025-03-29T13:18:21.275262Z",
     "iopub.status.idle": "2025-03-29T13:41:16.731152Z",
     "shell.execute_reply": "2025-03-29T13:41:16.730126Z",
     "shell.execute_reply.started": "2025-03-29T13:18:21.275548Z"
    },
    "trusted": true
   },
   "outputs": [
    {
     "name": "stdout",
     "output_type": "stream",
     "text": [
      "Using device: cuda\n"
     ]
    },
    {
     "name": "stderr",
     "output_type": "stream",
     "text": [
      "/usr/local/lib/python3.10/dist-packages/transformers/tokenization_utils_base.py:1925: FutureWarning: Calling BertTokenizer.from_pretrained() with the path to a single file or url is deprecated and won't be possible anymore in v5. Use a model identifier or the path to a directory instead.\n",
      "  warnings.warn(\n",
      "<ipython-input-8-59396e61d5b8>:17: FutureWarning: You are using `torch.load` with `weights_only=False` (the current default value), which uses the default pickle module implicitly. It is possible to construct malicious pickle data which will execute arbitrary code during unpickling (See https://github.com/pytorch/pytorch/blob/main/SECURITY.md#untrusted-models for more details). In a future release, the default value for `weights_only` will be flipped to `True`. This limits the functions that could be executed during unpickling. Arbitrary objects will no longer be allowed to be loaded via this mode unless they are explicitly allowlisted by the user via `torch.serialization.add_safe_globals`. We recommend you start setting `weights_only=True` for any use case where you don't have full control of the loaded file. Please open an issue on GitHub for any issues related to this experimental feature.\n",
      "  checkpoint = torch.load(pretrained_bert_path, map_location=device)\n"
     ]
    },
    {
     "name": "stdout",
     "output_type": "stream",
     "text": [
      "Could not load BERT model directly, trying to extract state dict...\n",
      "Loaded BERT from extracted state dict\n"
     ]
    },
    {
     "name": "stderr",
     "output_type": "stream",
     "text": [
      "Training Epoch 1: 100%|██████████| 1407/1407 [04:35<00:00,  5.10it/s]\n",
      "Validation Epoch 1: 100%|██████████| 157/157 [00:18<00:00,  8.69it/s]\n"
     ]
    },
    {
     "name": "stdout",
     "output_type": "stream",
     "text": [
      "Epoch 1:\n",
      "Train Loss: 0.6988\n",
      "Val Loss: 0.7556\n",
      "Val Accuracy: 0.5192\n",
      "Model saved with accuracy: 0.5192\n"
     ]
    },
    {
     "name": "stderr",
     "output_type": "stream",
     "text": [
      "Training Epoch 2: 100%|██████████| 1407/1407 [04:35<00:00,  5.11it/s]\n",
      "Validation Epoch 2: 100%|██████████| 157/157 [00:18<00:00,  8.68it/s]\n"
     ]
    },
    {
     "name": "stdout",
     "output_type": "stream",
     "text": [
      "Epoch 2:\n",
      "Train Loss: 0.6507\n",
      "Val Loss: 0.5936\n",
      "Val Accuracy: 0.6780\n",
      "Model saved with accuracy: 0.6780\n"
     ]
    },
    {
     "name": "stderr",
     "output_type": "stream",
     "text": [
      "Training Epoch 3: 100%|██████████| 1407/1407 [04:35<00:00,  5.11it/s]\n",
      "Validation Epoch 3: 100%|██████████| 157/157 [00:18<00:00,  8.59it/s]\n"
     ]
    },
    {
     "name": "stdout",
     "output_type": "stream",
     "text": [
      "Epoch 3:\n",
      "Train Loss: 0.5674\n",
      "Val Loss: 0.5527\n",
      "Val Accuracy: 0.7108\n",
      "Model saved with accuracy: 0.7108\n"
     ]
    },
    {
     "name": "stderr",
     "output_type": "stream",
     "text": [
      "Training Epoch 4: 100%|██████████| 1407/1407 [04:35<00:00,  5.10it/s]\n",
      "Validation Epoch 4: 100%|██████████| 157/157 [00:18<00:00,  8.67it/s]\n"
     ]
    },
    {
     "name": "stdout",
     "output_type": "stream",
     "text": [
      "Epoch 4:\n",
      "Train Loss: 0.5095\n",
      "Val Loss: 0.5332\n",
      "Val Accuracy: 0.7356\n",
      "Model saved with accuracy: 0.7356\n"
     ]
    },
    {
     "name": "stderr",
     "output_type": "stream",
     "text": [
      "Testing: 100%|██████████| 1563/1563 [03:00<00:00,  8.64it/s]\n"
     ]
    },
    {
     "name": "stdout",
     "output_type": "stream",
     "text": [
      "Test Accuracy: 0.7317\n"
     ]
    },
    {
     "data": {
      "image/png": "[encoded data removed]",
      "text/plain": [
       "<Figure size 800x600 with 2 Axes>"
      ]
     },
     "metadata": {},
     "output_type": "display_data"
    },
    {
     "name": "stdout",
     "output_type": "stream",
     "text": [
      "\n",
      "Classification Report:\n",
      "              precision    recall  f1-score   support\n",
      "\n",
      "    Negative       0.77      0.66      0.71     12500\n",
      "    Positive       0.70      0.80      0.75     12500\n",
      "\n",
      "    accuracy                           0.73     25000\n",
      "   macro avg       0.74      0.73      0.73     25000\n",
      "weighted avg       0.74      0.73      0.73     25000\n",
      "\n"
     ]
    }
   ],
   "source": [
    "# Main execution\n",
    "if __name__ == \"__main__\":\n",
    "    # Set random seeds for reproducibility\n",
    "    random.seed(42)\n",
    "    np.random.seed(42)\n",
    "    torch.manual_seed(42)\n",
    "    if torch.cuda.is_available():\n",
    "        torch.cuda.manual_seed_all(42)\n",
    "    \n",
    "    # Fine-tune the model\n",
    "    sentiment_model = fine_tune_bert_for_sentiment(\n",
    "        \"/kaggle/working/bert_pretrained.pt\",\n",
    "    \"/kaggle/working/bert-it-vocab.txt\")\n"
   ]
  },
  {
   "cell_type": "code",
   "execution_count": 12,
   "metadata": {
    "execution": {
     "iopub.execute_input": "2025-03-29T13:41:34.675482Z",
     "iopub.status.busy": "2025-03-29T13:41:34.675160Z",
     "iopub.status.idle": "2025-03-29T13:41:34.749702Z",
     "shell.execute_reply": "2025-03-29T13:41:34.748736Z",
     "shell.execute_reply.started": "2025-03-29T13:41:34.675432Z"
    },
    "trusted": true
   },
   "outputs": [
    {
     "name": "stdout",
     "output_type": "stream",
     "text": [
      "Sentiment: Positive\n",
      "Score: 0.9525\n"
     ]
    },
    {
     "name": "stderr",
     "output_type": "stream",
     "text": [
      "/usr/local/lib/python3.10/dist-packages/transformers/tokenization_utils_base.py:1925: FutureWarning: Calling BertTokenizer.from_pretrained() with the path to a single file or url is deprecated and won't be possible anymore in v5. Use a model identifier or the path to a directory instead.\n",
      "  warnings.warn(\n"
     ]
    }
   ],
   "source": [
    "# Example usage\n",
    "tokenizer = BertTokenizer.from_pretrained(\"/kaggle/working/bert-it-vocab.txt\", local_files_only=True)\n",
    "\n",
    "sample_text = \"This movie was absolutely fantastic! The acting was superb.\"\n",
    "result = predict_sentiment(sample_text, sentiment_model, tokenizer)\n",
    "print(f\"Sentiment: {result['sentiment']}\")\n",
    "print(f\"Score: {result['score']:.4f}\")"
   ]
  }
 ],
 "metadata": {
  "kaggle": {
   "accelerator": "gpu",
   "dataSources": [
    {
     "datasetId": 6994559,
     "sourceId": 11202671,
     "sourceType": "datasetVersion"
    }
   ],
   "dockerImageVersionId": 30918,
   "isGpuEnabled": true,
   "isInternetEnabled": true,
   "language": "python",
   "sourceType": "notebook"
  },
  "kernelspec": {
   "display_name": "Python 3",
   "language": "python",
   "name": "python3"
  },
  "language_info": {
   "codemirror_mode": {
    "name": "ipython",
    "version": 3
   },
   "file_extension": ".py",
   "mimetype": "text/x-python",
   "name": "python",
   "nbconvert_exporter": "python",
   "pygments_lexer": "ipython3",
   "version": "3.10.12"
  }
 },
 "nbformat": 4,
 "nbformat_minor": 4
}
