{
 "cells": [
  {
   "cell_type": "code",
   "execution_count": 116,
   "metadata": {},
   "outputs": [],
   "source": [
    "import pandas as pd\n",
    "import numpy as np\n",
    "import matplotlib.pyplot as plt"
   ]
  },
  {
   "cell_type": "code",
   "execution_count": 117,
   "metadata": {},
   "outputs": [],
   "source": [
    "X = pd.read_csv(\"CarPrice_Assignment.csv\")\n",
    "y = X['price']\n",
    "y = y.values.reshape(-1, 1)"
   ]
  },
  {
   "cell_type": "code",
   "execution_count": 118,
   "metadata": {},
   "outputs": [],
   "source": [
    "#Preprocessing\n",
    "X.drop(['car_ID','price'], axis=1, inplace=True)\n",
    "X[\"doornumber\"] = X[\"doornumber\"].replace(\"four\",4).replace(\"two\",2)\n",
    "X[\"cylindernumber\"] = X[\"cylindernumber\"].replace({\"four\": 4, \"five\": 5, \"six\": 6, \"three\": 3, \"twelve\": 12, \"two\": 2, \"eight\": 8})\n",
    "\n",
    "X = pd.get_dummies(X, columns=['CarName','fueltype','aspiration','carbody','drivewheel','enginelocation','enginetype','fuelsystem'])\n",
    "X = X.astype(float)"
   ]
  },
  {
   "cell_type": "code",
   "execution_count": 119,
   "metadata": {},
   "outputs": [],
   "source": [
    "# Normalizing the features\n",
    "X = (X - X.mean(axis=0)) / X.std(axis=0)\n",
    "X = np.hstack((X ,np.ones((X.shape[0],1))))"
   ]
  },
  {
   "cell_type": "code",
   "execution_count": 120,
   "metadata": {},
   "outputs": [],
   "source": [
    "def gradient_descent(X, y, weights, alpha, iterations):\n",
    "    m = len(X)\n",
    "    cost_history = np.zeros(iterations)\n",
    "    \n",
    "    for i in range(iterations):\n",
    "        predictions = np.dot(X, weights)\n",
    "        error = predictions - y\n",
    "        gradient = (1/m) * np.dot(X.T, error)\n",
    "        weights -= alpha * gradient\n",
    "        cost_history[i] = (1/(2*m)) * np.dot(error.T, error)\n",
    "        if np.isnan(cost_history[i]):\n",
    "            print(f\"NaN encountered at iteration {i}\")\n",
    "            break\n",
    "    \n",
    "    return weights, cost_history"
   ]
  },
  {
   "cell_type": "code",
   "execution_count": 121,
   "metadata": {},
   "outputs": [],
   "source": [
    "def linear_regression(X, y, alpha, iterations):\n",
    "    weights = np.zeros((X.shape[1], 1))\n",
    "    weights, cost_history = gradient_descent(X, y, weights, alpha, iterations)\n",
    "    \n",
    "    return weights, cost_history"
   ]
  },
  {
   "cell_type": "code",
   "execution_count": 122,
   "metadata": {},
   "outputs": [],
   "source": [
    "#Train Test Split\n",
    "ratio = 0.75\n",
    "\n",
    "rows = X.shape[0]\n",
    "train_size = int(ratio*rows)\n",
    "\n",
    "X_train = X[0:train_size]\n",
    "X_test = X[train_size:]\n",
    "\n",
    "y_train = y[0:train_size]\n",
    "y_test = y[train_size:]"
   ]
  },
  {
   "cell_type": "code",
   "execution_count": 127,
   "metadata": {},
   "outputs": [
    {
     "name": "stderr",
     "output_type": "stream",
     "text": [
      "C:\\Users\\Dishita\\AppData\\Local\\Temp\\ipykernel_20316\\677469361.py:10: DeprecationWarning: Conversion of an array with ndim > 0 to a scalar is deprecated, and will error in future. Ensure you extract a single element from your array before performing this operation. (Deprecated NumPy 1.25.)\n",
      "  cost_history[i] = (1/(2*m)) * np.dot(error.T, error)\n"
     ]
    },
    {
     "name": "stdout",
     "output_type": "stream",
     "text": [
      "Final cost: 56526.1052155354\n"
     ]
    }
   ],
   "source": [
    "alpha = 0.1585\n",
    "iterations = 10000\n",
    "\n",
    "weights, cost_history = linear_regression(X_train, y_train, alpha, iterations)\n",
    "\n",
    "# print(\"Optimized theta parameters:\", weights)\n",
    "print(\"Final cost:\", round(cost_history[-1],10))"
   ]
  },
  {
   "cell_type": "code",
   "execution_count": 135,
   "metadata": {},
   "outputs": [
    {
     "name": "stdout",
     "output_type": "stream",
     "text": [
      "MSE: 149643004.0307222\n",
      "MAE: 11435.675658385282\n",
      "R-squared: -7.064960302999085\n"
     ]
    }
   ],
   "source": [
    "def accuracy(X_test, y_test, weights):\n",
    "    y_pred = np.dot(X_test, weights)\n",
    "    \n",
    "    mse = np.mean((y_test - y_pred) ** 2)\n",
    "    \n",
    "    mae = np.mean(np.abs(y_test - y_pred))\n",
    "    \n",
    "    ss_total = np.sum((y_test - np.mean(y_test)) ** 2)\n",
    "    ss_res = np.sum((y_test - y_pred) ** 2)\n",
    "    r_squared = 1 - (ss_res / ss_total)\n",
    "    \n",
    "    return mse, mae, r_squared\n",
    "\n",
    "mse, mae, r_squared = accuracy(X_test, y_test, weights)\n",
    "\n",
    "print(\"MSE:\", mse)\n",
    "print(\"MAE:\", mae)\n",
    "print(\"R-squared:\", r_squared)\n"
   ]
  },
  {
   "cell_type": "code",
   "execution_count": null,
   "metadata": {},
   "outputs": [],
   "source": []
  }
 ],
 "metadata": {
  "kernelspec": {
   "display_name": ".venv",
   "language": "python",
   "name": "python3"
  },
  "language_info": {
   "codemirror_mode": {
    "name": "ipython",
    "version": 3
   },
   "file_extension": ".py",
   "mimetype": "text/x-python",
   "name": "python",
   "nbconvert_exporter": "python",
   "pygments_lexer": "ipython3",
   "version": "3.12.0"
  }
 },
 "nbformat": 4,
 "nbformat_minor": 2
}
